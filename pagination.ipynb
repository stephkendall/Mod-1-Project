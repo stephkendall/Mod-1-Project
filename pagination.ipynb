{
 "cells": [
  {
   "cell_type": "code",
   "execution_count": 31,
   "metadata": {},
   "outputs": [],
   "source": [
    "urls = ['https://www.imdb.com/title/tt0120338/?ref_=ttls_li_tt',\n",
    " 'https://www.imdb.com/title/tt1375666/?ref_=ttls_li_tt',\n",
    " 'https://www.imdb.com/title/tt1663202/?ref_=ttls_li_tt',\n",
    " 'https://www.imdb.com/title/tt1853728/?ref_=ttls_li_tt',\n",
    " 'https://www.imdb.com/title/tt0993846/?ref_=ttls_li_tt',\n",
    " 'https://www.imdb.com/title/tt0264464/?ref_=ttls_li_tt',\n",
    " 'https://www.imdb.com/title/tt1343092/?ref_=ttls_li_tt',\n",
    " 'https://www.imdb.com/title/tt7131622/?ref_=ttls_li_tt',\n",
    " 'https://www.imdb.com/title/tt1130884/?ref_=ttls_li_tt',\n",
    " 'https://www.imdb.com/title/tt0407887/?ref_=ttls_li_tt',\n",
    " 'https://www.imdb.com/title/tt0338751/?ref_=ttls_li_tt',\n",
    " 'https://www.imdb.com/title/tt0217505/?ref_=ttls_li_tt',\n",
    " 'https://www.imdb.com/title/tt0120744/?ref_=ttls_li_tt',\n",
    " 'https://www.imdb.com/title/tt0450259/?ref_=ttls_li_tt',\n",
    " 'https://www.imdb.com/title/tt0117509/?ref_=ttls_li_tt',\n",
    " 'https://www.imdb.com/title/tt0163978/?ref_=ttls_li_tt',\n",
    " 'https://www.imdb.com/title/tt0758774/?ref_=ttls_li_tt',\n",
    " 'https://www.imdb.com/title/tt1616195/?ref_=ttls_li_tt',\n",
    " 'https://www.imdb.com/title/tt0959337/?ref_=ttls_li_tt',\n",
    " 'https://www.imdb.com/title/tt0114214/?ref_=ttls_li_tt',\n",
    " 'https://www.imdb.com/title/tt0116999/?ref_=ttls_li_tt',\n",
    " 'https://www.imdb.com/title/tt0108550/?ref_=ttls_li_tt',\n",
    " 'https://www.imdb.com/title/tt0120533/?ref_=ttls_li_tt',\n",
    " 'https://www.imdb.com/title/tt0108330/?ref_=ttls_li_tt',\n",
    " 'https://www.imdb.com/title/tt0112461/?ref_=ttls_li_tt',\n",
    " 'https://www.imdb.com/title/tt0105156/?ref_=ttls_li_tt',\n",
    " 'https://www.imdb.com/title/tt0112654/?ref_=ttls_li_tt',\n",
    " 'https://www.imdb.com/title/tt0109642/?ref_=ttls_li_tt',\n",
    " 'https://www.imdb.com/title/tt0119004/?ref_=ttls_li_tt',\n",
    " 'https://www.imdb.com/title/tt0101627/?ref_=ttls_li_tt']"
   ]
  },
  {
   "cell_type": "code",
   "execution_count": 50,
   "metadata": {},
   "outputs": [],
   "source": [
    "from urllib.request import urlopen as uReq\n",
    "import requests\n",
    "import lxml.html as lh\n",
    "import pandas as pd\n",
    "from urllib.request import urlopen\n",
    "from bs4 import BeautifulSoup as soup"
   ]
  },
  {
   "cell_type": "code",
   "execution_count": 77,
   "metadata": {},
   "outputs": [
    {
     "name": "stdout",
     "output_type": "stream",
     "text": [
      "The Basketball Diaries (1995) - IMDb\n",
      "Don's Plum (2001) - IMDb\n",
      "Critters 3 (1991) - IMDb\n"
     ]
    }
   ],
   "source": [
    "tagcontent = []\n",
    "titlecontent = []\n",
    "for url in urls:\n",
    "    uClient = uReq(url)\n",
    "    pagehtml = uClient.read()\n",
    "    uClient.close()\n",
    "    s = soup(pagehtml,'html.parser')\n",
    "    title = s.find(\"meta\", property = \"og:title\")\n",
    "    lists_div =  s.find(\"div\", {\"class\": \"article highlighted\"})\n",
    "    if lists_div:\n",
    "        titlecontent.append(s.find(\"meta\", property=\"og:title\"))\n",
    "        tagcontent.append(lists_div.find(\"b\"))\n",
    "    else:\n",
    "        print(title[\"content\"] if title else \"No meta title given\")\n",
    "\n",
    "#dicts_oscar['title'] = titlecontent\n",
    "#dicts_oscar['oscar'] = tagcontent\n",
    "\n",
    "\n",
    "\n"
   ]
  },
  {
   "cell_type": "code",
   "execution_count": 78,
   "metadata": {},
   "outputs": [
    {
     "data": {
      "text/plain": [
       "[<b>\n",
       "             Won\n",
       "             11\n",
       "             Oscars.\n",
       "         </b>, <b>\n",
       "             Won\n",
       "             4\n",
       "             Oscars.\n",
       "         </b>, <b>\n",
       "             Won\n",
       "             3\n",
       "             Oscars.\n",
       "         </b>, <b>\n",
       "             Won\n",
       "             2\n",
       "             Oscars.\n",
       "         </b>, <b>\n",
       "             Nominated for\n",
       "             5\n",
       "             Oscars.\n",
       "         </b>, <b>\n",
       "             Nominated for\n",
       "             2\n",
       "             Oscars.\n",
       "         </b>, <b>\n",
       "             Won\n",
       "             2\n",
       "             Oscars.\n",
       "         </b>, None, None, <b>\n",
       "             Won\n",
       "             4\n",
       "             Oscars.\n",
       "         </b>, <b>\n",
       "             Won\n",
       "             5\n",
       "             Oscars.\n",
       "         </b>, <b>\n",
       "             Nominated for\n",
       "             10\n",
       "             Oscars.\n",
       "         </b>, None, <b>\n",
       "             Nominated for\n",
       "             5\n",
       "             Oscars.\n",
       "         </b>, <b>\n",
       "             Nominated for\n",
       "             1\n",
       "             Oscar.\n",
       "         </b>, None, None, <b>\n",
       "             Nominated for\n",
       "             1\n",
       "             Golden Globe.\n",
       "         </b>, <b>\n",
       "             Nominated for\n",
       "             3\n",
       "             Oscars.\n",
       "         </b>, None, <b>\n",
       "             Nominated for\n",
       "             1\n",
       "             Oscar.\n",
       "         </b>, <b>\n",
       "             Nominated for\n",
       "             1\n",
       "             Oscar.\n",
       "         </b>, None, None, None, None, None]"
      ]
     },
     "execution_count": 78,
     "metadata": {},
     "output_type": "execute_result"
    }
   ],
   "source": [
    "tagcontent"
   ]
  },
  {
   "cell_type": "code",
   "execution_count": 79,
   "metadata": {},
   "outputs": [
    {
     "data": {
      "text/plain": [
       "[<meta content=\"Titanic (1997) - IMDb\" property=\"og:title\"/>,\n",
       " <meta content=\"Inception (2010) - IMDb\" property=\"og:title\"/>,\n",
       " <meta content=\"The Revenant (2015) - IMDb\" property=\"og:title\"/>,\n",
       " <meta content=\"Django Unchained (2012) - IMDb\" property=\"og:title\"/>,\n",
       " <meta content=\"The Wolf of Wall Street (2013) - IMDb\" property=\"og:title\"/>,\n",
       " <meta content=\"Catch Me If You Can (2002) - IMDb\" property=\"og:title\"/>,\n",
       " <meta content=\"The Great Gatsby (2013) - IMDb\" property=\"og:title\"/>,\n",
       " <meta content=\"Once Upon a Time in Hollywood (2019) - IMDb\" property=\"og:title\"/>,\n",
       " <meta content=\"Shutter Island (2010) - IMDb\" property=\"og:title\"/>,\n",
       " <meta content=\"The Departed (2006) - IMDb\" property=\"og:title\"/>,\n",
       " <meta content=\"The Aviator (2004) - IMDb\" property=\"og:title\"/>,\n",
       " <meta content=\"Gangs of New York (2002) - IMDb\" property=\"og:title\"/>,\n",
       " <meta content=\"The Man in the Iron Mask (1998) - IMDb\" property=\"og:title\"/>,\n",
       " <meta content=\"Blood Diamond (2006) - IMDb\" property=\"og:title\"/>,\n",
       " <meta content=\"Romeo + Juliet (1996) - IMDb\" property=\"og:title\"/>,\n",
       " <meta content=\"The Beach (2000) - IMDb\" property=\"og:title\"/>,\n",
       " <meta content=\"Body of Lies (2008) - IMDb\" property=\"og:title\"/>,\n",
       " <meta content=\"J. Edgar (2011) - IMDb\" property=\"og:title\"/>,\n",
       " <meta content=\"Revolutionary Road (2008) - IMDb\" property=\"og:title\"/>,\n",
       " <meta content=\"The Quick and the Dead (1995) - IMDb\" property=\"og:title\"/>,\n",
       " <meta content=\"Marvin's Room (1996) - IMDb\" property=\"og:title\"/>,\n",
       " <meta content=\"What's Eating Gilbert Grape (1993) - IMDb\" property=\"og:title\"/>,\n",
       " <meta content=\"Celebrity (1998) - IMDb\" property=\"og:title\"/>,\n",
       " <meta content=\"This Boy's Life (1993) - IMDb\" property=\"og:title\"/>,\n",
       " <meta content=\"Poison Ivy (1992) - IMDb\" property=\"og:title\"/>,\n",
       " <meta content=\"One Hundred and One Nights (1995) - IMDb\" property=\"og:title\"/>,\n",
       " <meta content=\"Dolores Claiborne (1995) - IMDb\" property=\"og:title\"/>]"
      ]
     },
     "execution_count": 79,
     "metadata": {},
     "output_type": "execute_result"
    }
   ],
   "source": [
    "titlecontent"
   ]
  },
  {
   "cell_type": "code",
   "execution_count": null,
   "metadata": {},
   "outputs": [],
   "source": []
  }
 ],
 "metadata": {
  "kernelspec": {
   "display_name": "Python 3",
   "language": "python",
   "name": "python3"
  },
  "language_info": {
   "codemirror_mode": {
    "name": "ipython",
    "version": 3
   },
   "file_extension": ".py",
   "mimetype": "text/x-python",
   "name": "python",
   "nbconvert_exporter": "python",
   "pygments_lexer": "ipython3",
   "version": "3.7.1"
  }
 },
 "nbformat": 4,
 "nbformat_minor": 2
}
