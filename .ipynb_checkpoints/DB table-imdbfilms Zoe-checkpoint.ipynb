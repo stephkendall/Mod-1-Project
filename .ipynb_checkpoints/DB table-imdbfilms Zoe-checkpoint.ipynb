{
 "cells": [
  {
   "cell_type": "code",
   "execution_count": 1,
   "metadata": {},
   "outputs": [],
   "source": [
    "from urllib.request import urlopen as uReq\n",
    "import requests\n",
    "import lxml.html as lh\n",
    "import pandas as pd\n",
    "from urllib.request import urlopen\n",
    "from bs4 import BeautifulSoup as soup\n"
   ]
  },
  {
   "cell_type": "code",
   "execution_count": 2,
   "metadata": {},
   "outputs": [
    {
     "name": "stdout",
     "output_type": "stream",
     "text": [
      "1\n"
     ]
    }
   ],
   "source": [
    "my_url = 'https://www.imdb.com/list/ls076742571'\n",
    "uClient = uReq(my_url)\n",
    "pagehtml = uClient.read()\n",
    "uClient.close()\n",
    "s = soup(pagehtml,'html.parser')\n",
    "lists_div =  s.findAll(\"div\", {\"class\": \"lister-list\"})\n",
    "print(len(lists_div)) # There should only be one div in this list of divs\n",
    "films_div = lists_div[0]\n",
    "\n"
   ]
  },
  {
   "cell_type": "code",
   "execution_count": 3,
   "metadata": {},
   "outputs": [
    {
     "name": "stdout",
     "output_type": "stream",
     "text": [
      "Titanic\n",
      "7.8\n",
      "$2.129 M.\n",
      "Drama, Romance\n",
      "Inception\n",
      "8.8\n",
      "$826 M.\n",
      "Action, Adventure, Sci-Fi\n",
      "The Revenant\n",
      "8.0\n",
      "$519 M.\n",
      "Action, Adventure, Biography\n",
      "Django Unchained\n",
      "8.4\n",
      "$425 M.\n",
      "Drama, Western\n",
      "The Wolf of Wall Street\n",
      "8.2\n",
      "$392 M.\n",
      "Biography, Crime, Drama\n",
      "Catch Me If You Can\n",
      "8.1\n",
      "$352 M.\n",
      "Biography, Crime, Drama\n",
      "The Great Gatsby\n",
      "7.3\n",
      "$351 M.\n",
      "Drama, Romance\n",
      "Once Upon a Time in Hollywood\n",
      "8.0\n",
      "$345 M.\n",
      "Comedy, Drama\n",
      "Shutter Island\n",
      "8.1\n",
      "$295 M.\n",
      "Mystery, Thriller\n",
      "The Departed\n",
      "8.5\n",
      "$290 M.\n",
      "Crime, Drama, Thriller\n",
      "The Aviator\n",
      "7.5\n",
      "$214 M.\n",
      "Biography, Drama\n",
      "Gangs of New York\n",
      "7.5\n",
      "$194 M.\n",
      "Crime, Drama\n",
      "The Man in the Iron Mask\n",
      "6.5\n",
      "$183 M.\n",
      "Action, Adventure, Drama\n",
      "Blood Diamond\n",
      "8.0\n",
      "$171 M.\n",
      "Adventure, Drama, Thriller\n",
      "Romeo + Juliet\n",
      "6.7\n",
      "$148 M.\n",
      "Drama, Romance\n",
      "The Beach\n",
      "6.7\n",
      "$144 M.\n",
      "Adventure, Drama, Romance\n",
      "Body of Lies\n",
      "7.1\n",
      "$115 M.\n",
      "Action, Drama, Thriller\n",
      "J. Edgar\n",
      "6.5\n",
      "$85 M.\n",
      "Biography, Crime, Drama\n",
      "Revolutionary Road\n",
      "7.3\n",
      "$75 M.\n",
      "Drama, Romance\n",
      "The Quick and the Dead\n",
      "6.4\n",
      "$19 M.\n",
      "Action, Romance, Thriller\n",
      "Marvin's Room\n",
      "6.7\n",
      "$13 M.\n",
      "Drama\n",
      "What's Eating Gilbert Grape\n",
      "7.8\n",
      "$10 M.\n",
      "Drama\n",
      "Celebrity\n",
      "6.3\n",
      "$5 M.\n",
      "Comedy, Drama\n",
      "This Boy's Life\n",
      "7.3\n",
      "$4 M.\n",
      "Biography, Drama\n",
      "The Basketball Diaries\n",
      "7.3\n",
      "$2 M.\n",
      "Biography, Crime, Drama\n",
      "Poison Ivy\n",
      "5.4\n",
      "$2 M.\n",
      "Drama, Thriller\n",
      "One Hundred and One Nights\n",
      "6.1\n",
      "$0 M.\n",
      "Comedy, History, Romance\n",
      "Dolores Claiborne\n",
      "7.4\n",
      "$0 M.\n",
      "Crime, Drama, Mystery\n",
      "Don's Plum\n",
      "5.8\n",
      "$0 M.\n",
      "Comedy, Drama\n",
      "Critters 3\n",
      "4.4\n",
      "N/A\n",
      "Comedy, Horror, Sci-Fi\n"
     ]
    }
   ],
   "source": [
    "# <div>...</div> is a section, more multi-line block in html\n",
    "# <span ../> is a single-line block in html\n",
    "\n",
    "# Get the list of film item detail divs, each <div ... lister-item mode-detail ... /> is a film item detail\n",
    "film_item_detail_divs = films_div.findAll(\"div\", {\"class\": \"lister-item mode-detail\"})\n",
    "\n",
    "listoffilms = []\n",
    "for film_parent_div in film_item_detail_divs:\n",
    "    imdb_dict = {}\n",
    "    film_content_div = film_parent_div.find(\"div\", {\"class\", \"lister-item-content\"})\n",
    "    #print(film_content_div)\n",
    "    title_link = film_content_div.find(\"a\")\n",
    "    film_title = title_link.getText()\n",
    "    print(film_title)\n",
    "    \n",
    "    rating_span = film_content_div.find(\"span\", {\"class\": \"ipl-rating-star__rating\"})\n",
    "    #print(rating_span)\n",
    "    rating_str = rating_span.getText()\n",
    "    #print(rating_str)\n",
    "    rating = float(rating_str)\n",
    "    print(rating)\n",
    "    \n",
    "    box_office_div = film_parent_div.find(\"div\", {\"class\", \"list-description\"})\n",
    "    #print(box_office_div)\n",
    "    box_office_p = box_office_div.find(\"p\")\n",
    "    #print(box_office_p.contents)\n",
    "    box_office = box_office_p.contents[0]\n",
    "    print(box_office)\n",
    "    \n",
    "    #genre_div = film_parent_div.find(\"span\", {\"class\": \"genre\"})\n",
    "    #print(genre_div) \n",
    "    genre_div_p1 = film_parent_div.find(\"p\")\n",
    "    genres = genre_div_p1.find(\"span\", {\"class\",\"genre\"})\n",
    "    genre_list = genres.getText(strip= True)\n",
    "    print (genre_list)\n",
    "    #genre_div_p = genre_div.getText()\n",
    "    #print(genre_div_p)\n",
    "    imdb_dict['title'] = film_title\n",
    "    imdb_dict['rating'] = rating\n",
    "    imdb_dict['boxoffice'] = box_office\n",
    "    imdb_dict['genre'] = genre_list\n",
    "\n",
    "    listoffilms.append(imdb_dict)\n",
    "\n",
    "    #print(detail)\n",
    "#print(films_div.findAll(\n",
    "\n"
   ]
  },
  {
   "cell_type": "code",
   "execution_count": 6,
   "metadata": {},
   "outputs": [
    {
     "name": "stdout",
     "output_type": "stream",
     "text": [
      "30\n"
     ]
    }
   ],
   "source": [
    "print(len(listoffilms))"
   ]
  },
  {
   "cell_type": "code",
   "execution_count": 31,
   "metadata": {},
   "outputs": [],
   "source": [
    "## Connect to DB server on AWS\n",
    "import mysql.connector \n",
    "from mysql.connector import errorcode\n",
    "import config2\n",
    "## Connecting to the database\n",
    "## connecting to the database using 'connect()' method\n",
    "## it takes 3 required parameters 'host', 'user', 'passwd'\n",
    "cnx = mysql.connector.connect(\n",
    "    host = config2.host,\n",
    "    user = config2.user,\n",
    "    passwd = config2.password\n",
    ")"
   ]
  },
  {
   "cell_type": "code",
   "execution_count": 32,
   "metadata": {},
   "outputs": [],
   "source": [
    "cursor = cnx.cursor()"
   ]
  },
  {
   "cell_type": "code",
   "execution_count": 67,
   "metadata": {},
   "outputs": [],
   "source": [
    "## Create new DB \n",
    "db_name = 'Leonardo'\n",
    "def create_database(cursor, database):\n",
    "    try:\n",
    "        cursor.execute(\n",
    "            \"CREATE DATABASE {} DEFAULT CHARACTER SET 'utf8'\".format(database))\n",
    "    except mysql.connector.Error as err:\n",
    "        print(\"Failed creating database: {}\".format(err))\n",
    "        exit(1)\n",
    "        \n",
    "    #above is python code that is going to connect to SQL queries w/ cursor.execute\n",
    "    #cursor knows to take SQL query and send it to server to run code\n",
    "    #try & except is error handling within python\n",
    "    #format takes in database and tries to run it\n",
    "    #if failed, except will tell you error and why it failed\n",
    "    #above is a function to create a database\n",
    "\n",
    "try:\n",
    "    cursor.execute(\"USE {}\".format(db_name))\n",
    "except mysql.connector.Error as err:\n",
    "    print(\"Database {} does not exists.\".format(db_name))\n",
    "    if err.errno == errorcode.ER_BAD_DB_ERROR:\n",
    "        create_database(cursor, db_name)\n",
    "        print(\"Database {} created successfully.\".format(db_name))\n",
    "        cnx.database = db_name####\n",
    "    else:\n",
    "        print(err)\n",
    "        exit(1)"
   ]
  },
  {
   "cell_type": "code",
   "execution_count": 70,
   "metadata": {},
   "outputs": [],
   "source": [
    "TABLES = {}\n",
    "\n",
    "TABLES['imdbfilms'] = \\\n",
    "'''CREATE TABLE IF NOT EXISTS imdbfilms (\n",
    "      title varchar(200) NOT NULL PRIMARY KEY, \n",
    "      rating int,\n",
    "      box_office varchar(200),\n",
    "      genre varchar(200) NOT NULL\n",
    ")  ENGINE=INNODB;\n",
    "'''"
   ]
  },
  {
   "cell_type": "code",
   "execution_count": 71,
   "metadata": {},
   "outputs": [
    {
     "name": "stdout",
     "output_type": "stream",
     "text": [
      "Creating table imdbfilms: OK\n"
     ]
    }
   ],
   "source": [
    "for table_name in TABLES:\n",
    "    table_description = TABLES[table_name]\n",
    "    try:\n",
    "        print(\"Creating table {}: \".format(table_name), end='')\n",
    "        cursor.execute(table_description)\n",
    "    except mysql.connector.Error as err:\n",
    "        if err.errno == errorcode.ER_TABLE_EXISTS_ERROR:\n",
    "            print(\"already exists.\")\n",
    "        else:\n",
    "            print(err.msg)\n",
    "    else:\n",
    "        print(\"OK\")\n"
   ]
  },
  {
   "cell_type": "code",
   "execution_count": 72,
   "metadata": {},
   "outputs": [],
   "source": [
    "df = pd.DataFrame(listoffilms)"
   ]
  },
  {
   "cell_type": "code",
   "execution_count": 73,
   "metadata": {},
   "outputs": [],
   "source": [
    "def get_review_tuples(d):\n",
    "    tuples = []\n",
    "    for i in range(len(d)):\n",
    "        t = (d.iloc[i]['title'], d.iloc[i]['rating'], d.iloc[i]['genre'], d.iloc[i]['boxoffice'])\n",
    "        tuples.append(t)\n",
    "    return tuples\n",
    "\n",
    "    "
   ]
  },
  {
   "cell_type": "code",
   "execution_count": 74,
   "metadata": {},
   "outputs": [
    {
     "data": {
      "text/plain": [
       "[('Titanic', 7.8, 'Drama, Romance', '$2.129 M.'),\n",
       " ('Inception', 8.8, 'Action, Adventure, Sci-Fi', '$826 M.'),\n",
       " ('The Revenant', 8.0, 'Action, Adventure, Biography', '$519 M.'),\n",
       " ('Django Unchained', 8.4, 'Drama, Western', '$425 M.'),\n",
       " ('The Wolf of Wall Street', 8.2, 'Biography, Crime, Drama', '$392 M.'),\n",
       " ('Catch Me If You Can', 8.1, 'Biography, Crime, Drama', '$352 M.'),\n",
       " ('The Great Gatsby', 7.3, 'Drama, Romance', '$351 M.'),\n",
       " ('Once Upon a Time in Hollywood', 8.0, 'Comedy, Drama', '$345 M.'),\n",
       " ('Shutter Island', 8.1, 'Mystery, Thriller', '$295 M.'),\n",
       " ('The Departed', 8.5, 'Crime, Drama, Thriller', '$290 M.'),\n",
       " ('The Aviator', 7.5, 'Biography, Drama', '$214 M.'),\n",
       " ('Gangs of New York', 7.5, 'Crime, Drama', '$194 M.'),\n",
       " ('The Man in the Iron Mask', 6.5, 'Action, Adventure, Drama', '$183 M.'),\n",
       " ('Blood Diamond', 8.0, 'Adventure, Drama, Thriller', '$171 M.'),\n",
       " ('Romeo + Juliet', 6.7, 'Drama, Romance', '$148 M.'),\n",
       " ('The Beach', 6.7, 'Adventure, Drama, Romance', '$144 M.'),\n",
       " ('Body of Lies', 7.1, 'Action, Drama, Thriller', '$115 M.'),\n",
       " ('J. Edgar', 6.5, 'Biography, Crime, Drama', '$85 M.'),\n",
       " ('Revolutionary Road', 7.3, 'Drama, Romance', '$75 M.'),\n",
       " ('The Quick and the Dead', 6.4, 'Action, Romance, Thriller', '$19 M.'),\n",
       " (\"Marvin's Room\", 6.7, 'Drama', '$13 M.'),\n",
       " (\"What's Eating Gilbert Grape\", 7.8, 'Drama', '$10 M.'),\n",
       " ('Celebrity', 6.3, 'Comedy, Drama', '$5 M.'),\n",
       " (\"This Boy's Life\", 7.3, 'Biography, Drama', '$4 M.'),\n",
       " ('The Basketball Diaries', 7.3, 'Biography, Crime, Drama', '$2 M.'),\n",
       " ('Poison Ivy', 5.4, 'Drama, Thriller', '$2 M.'),\n",
       " ('One Hundred and One Nights', 6.1, 'Comedy, History, Romance', '$0 M.'),\n",
       " ('Dolores Claiborne', 7.4, 'Crime, Drama, Mystery', '$0 M.'),\n",
       " (\"Don's Plum\", 5.8, 'Comedy, Drama', '$0 M.'),\n",
       " ('Critters 3', 4.4, 'Comedy, Horror, Sci-Fi', 'N/A')]"
      ]
     },
     "execution_count": 74,
     "metadata": {},
     "output_type": "execute_result"
    }
   ],
   "source": [
    "get_review_tuples(df)"
   ]
  },
  {
   "cell_type": "code",
   "execution_count": 75,
   "metadata": {},
   "outputs": [],
   "source": [
    "cnx = mysql.connector.connect(\n",
    "    host = config2.host,\n",
    "    user = config2.user,\n",
    "    passwd = config2.password\n",
    ")"
   ]
  },
  {
   "cell_type": "code",
   "execution_count": 76,
   "metadata": {},
   "outputs": [],
   "source": [
    "cursor = cnx.cursor()"
   ]
  },
  {
   "cell_type": "code",
   "execution_count": 77,
   "metadata": {},
   "outputs": [],
   "source": [
    "addfilms = (\"INSERT INTO Leonardo.imdbfilms\" \n",
    "               \"(title, rating, genre, box_office)\"\n",
    "               \"VALUES (%s, %s, %s, %s)\")\n",
    "cursor.executemany(addfilms, get_review_tuples(df))\n",
    "cnx.commit()"
   ]
  },
  {
   "cell_type": "code",
   "execution_count": null,
   "metadata": {},
   "outputs": [],
   "source": []
  }
 ],
 "metadata": {
  "kernelspec": {
   "display_name": "Python 3",
   "language": "python",
   "name": "python3"
  },
  "language_info": {
   "codemirror_mode": {
    "name": "ipython",
    "version": 3
   },
   "file_extension": ".py",
   "mimetype": "text/x-python",
   "name": "python",
   "nbconvert_exporter": "python",
   "pygments_lexer": "ipython3",
   "version": "3.7.3"
  }
 },
 "nbformat": 4,
 "nbformat_minor": 2
}
