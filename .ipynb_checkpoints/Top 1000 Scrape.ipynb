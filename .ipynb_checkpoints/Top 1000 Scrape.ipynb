{
 "cells": [
  {
   "cell_type": "code",
   "execution_count": null,
   "metadata": {},
   "outputs": [],
   "source": [
    "from bs4 import BeautifulSoup\n",
    "import requests\n",
    "import re\n",
    "import pandas as pd"
   ]
  },
  {
   "cell_type": "code",
   "execution_count": null,
   "metadata": {},
   "outputs": [],
   "source": [
    "from urllib.request import urlopen as uReq\n",
    "import requests\n",
    "import lxml.html as lh\n",
    "import pandas as pd\n",
    "from urllib.request import urlopen\n",
    "from bs4 import BeautifulSoup as soup"
   ]
  },
  {
   "cell_type": "code",
   "execution_count": null,
   "metadata": {},
   "outputs": [],
   "source": [
    "my_url = 'https://www.imdb.com/search/title/?groups=top_1000&groups=oscar_nominee'\n",
    "response = requests.get(my_url)\n",
    "soup = soup(response.text,'lxml')"
   ]
  },
  {
   "cell_type": "code",
   "execution_count": null,
   "metadata": {},
   "outputs": [],
   "source": [
    "uClient = uReq(my_url)\n",
    "pagehtml = uClient.read()\n",
    "uClient.close()\n",
    "s = soup(pagehtml,'html.parser')\n",
    "lists_div =  s.find_all(\"div\", {\"class\": \"lister-item\"})\n",
    "print(len(lists_div)) # There should only be one div in this list of divs\n",
    "films_div = lists_div[0]\n"
   ]
  },
  {
   "cell_type": "code",
   "execution_count": 3,
   "metadata": {},
   "outputs": [
    {
     "name": "stdout",
     "output_type": "stream",
     "text": [
      "<class 'pandas.core.frame.DataFrame'>\n",
      "RangeIndex: 5000 entries, 0 to 4999\n",
      "Data columns (total 6 columns):\n",
      "Movie         5000 non-null object\n",
      "Year          5000 non-null object\n",
      "IMDb          5000 non-null object\n",
      "Metascore     5000 non-null int64\n",
      "Votes         5000 non-null int64\n",
      "Box_Office    5000 non-null object\n",
      "dtypes: int64(2), object(4)\n",
      "memory usage: 234.5+ KB\n",
      "None\n"
     ]
    },
    {
     "name": "stderr",
     "output_type": "stream",
     "text": [
      "/Users/stephaniekendall/anaconda3/lib/python3.7/site-packages/ipykernel_launcher.py:46: UserWarning: Number of requests was greater than expected.\n"
     ]
    }
   ],
   "source": [
    "from requests import get\n",
    "from bs4 import BeautifulSoup\n",
    "import pandas as pd\n",
    "from random import randint\n",
    "\n",
    "#More advanced libraries\n",
    "from time import sleep\n",
    "from time import time\n",
    "from IPython.core.display import clear_output\n",
    "from warnings import warn\n",
    "\n",
    "url = 'https://www.imdb.com/search/title/?groups=top_1000&groups=oscar_nominee'\n",
    "response = get(url)\n",
    "\n",
    "soup = BeautifulSoup(response.text, 'lxml')\n",
    "\n",
    "#data lists to append\n",
    "\n",
    "names           = []\n",
    "years           = []\n",
    "imdb_ratings    = []\n",
    "metascores      = []\n",
    "votes           = []\n",
    "\n",
    "#preparing the monitoring loop\n",
    "\n",
    "pages =  str(range(1,1000))\n",
    "\n",
    "start_time = time()\n",
    "requests = 0\n",
    "\n",
    "#for every page in the interval 1-4\n",
    "urls = [url+str(x) for x in range(0,1000)]\n",
    "for url in urls:\n",
    "\n",
    "#make a get request\n",
    "    response = get(url)\n",
    "\n",
    "#pause the loop\n",
    "    sleep(randint(2,3))\n",
    "\n",
    "#Monitor the requests\n",
    "    requests += 1\n",
    "    elapsed_time = time() - start_time\n",
    "    if requests > 100:\n",
    "        warn('Number of requests was greater than expected.')\n",
    "        break\n",
    "\n",
    "    elif response.status_code != 200:\n",
    "        warn('Request: {}; Frequency: {} requests/s'.format(requests, response.status_code))\n",
    "\n",
    "    else:\n",
    "        print('Request: {}; Frequency: {} requests/s'.format(requests, requests/elapsed_time))\n",
    "        clear_output(wait = True)\n",
    "\n",
    "    page_html = BeautifulSoup(response.text, 'lxml')  \n",
    "\n",
    "#root\n",
    "    movie_containers = soup.find_all('div', class_= 'lister-item mode-advanced')\n",
    "\n",
    "    #looping through containers\n",
    "    for container in movie_containers:\n",
    "        if container.find('div', class_ = 'ratings-metascore') is not None:\n",
    "\n",
    "            #The name\n",
    "            name = container.h3.a.text\n",
    "            #print(name)\n",
    "            names.append(name)\n",
    "\n",
    "            #The Year\n",
    "            year = container.find('span', class_ = 'lister-item-year').text\n",
    "            #print(year)\n",
    "            years.append(year)\n",
    "\n",
    "            #IDMb rating             \n",
    "            imdb = container.strong.text\n",
    "            #print(imdb)\n",
    "            imdb_ratings.append(imdb)\n",
    "\n",
    "            #Metascore              \n",
    "            metascore = container.find('span', class_= 'metascore').text\n",
    "            #print(metascore)\n",
    "            metascores.append(int(metascore))\n",
    "\n",
    "            #Number of Votes\n",
    "            vote = container.find('span', attrs = {'name':'nv'})['data-value'][0]\n",
    "            #print(vote)\n",
    "            votes.append(int(vote))\n",
    "            \n",
    "#             box_office = container.find('span', attrs ={'name':'nv'})['data-value'][1]\n",
    "#             box_office.append(int(box_office))\n",
    "    \n",
    "\n",
    "\n",
    "#keeping track of data        \n",
    "test_df= pd.DataFrame({'Movie': names,\n",
    "                        'Year': years,\n",
    "                        'IMDb': imdb_ratings,\n",
    "                        'Metascore': metascores,\n",
    "                        'Votes': votes,\n",
    "                       'Box_Office': box_office\n",
    "                      })\n",
    "print(test_df.info())\n",
    "test_df.to_csv(\"test.csv\", sep=\",\", encoding=\"utf-8\")"
   ]
  },
  {
   "cell_type": "code",
   "execution_count": null,
   "metadata": {
    "scrolled": true
   },
   "outputs": [],
   "source": [
    "test_df"
   ]
  },
  {
   "cell_type": "code",
   "execution_count": 72,
   "metadata": {},
   "outputs": [
    {
     "name": "stdout",
     "output_type": "stream",
     "text": [
      "<class 'pandas.core.frame.DataFrame'>\n",
      "RangeIndex: 5000 entries, 0 to 4999\n",
      "Data columns (total 6 columns):\n",
      "Movie         5000 non-null object\n",
      "Year          5000 non-null object\n",
      "IMDb          5000 non-null object\n",
      "Metascore     5000 non-null int64\n",
      "Votes         5000 non-null int64\n",
      "Box_Office    5000 non-null object\n",
      "dtypes: int64(2), object(4)\n",
      "memory usage: 234.5+ KB\n",
      "None\n"
     ]
    },
    {
     "name": "stderr",
     "output_type": "stream",
     "text": [
      "/Users/stephaniekendall/anaconda3/lib/python3.7/site-packages/ipykernel_launcher.py:47: UserWarning: Number of requests was greater than expected.\n"
     ]
    }
   ],
   "source": [
    "from requests import get\n",
    "from bs4 import BeautifulSoup\n",
    "import pandas as pd\n",
    "from random import randint\n",
    "\n",
    "#More advanced libraries\n",
    "from time import sleep\n",
    "from time import time\n",
    "from IPython.core.display import clear_output\n",
    "from warnings import warn\n",
    "\n",
    "url = 'https://www.imdb.com/search/title/?groups=top_1000&groups=oscar_nominee'\n",
    "response = get(url)\n",
    "\n",
    "soup = BeautifulSoup(response.text, 'lxml')\n",
    "\n",
    "#data lists to append\n",
    "\n",
    "names           = []\n",
    "years           = []\n",
    "imdb_ratings    = []\n",
    "metascores      = []\n",
    "votes           = []\n",
    "box_office      = [] \n",
    "\n",
    "#preparing the monitoring loop\n",
    "\n",
    "pages =  str(range(1,1000))\n",
    "\n",
    "start_time = time()\n",
    "requests = 0\n",
    "\n",
    "#for every page in the interval 1-4\n",
    "urls = [url+str(x) for x in range(0,1000)]\n",
    "for url in urls:\n",
    "\n",
    "#make a get request\n",
    "    response = get(url)\n",
    "\n",
    "#pause the loop\n",
    "    sleep(randint(2,3))\n",
    "\n",
    "#Monitor the requests\n",
    "    requests += 1\n",
    "    elapsed_time = time() - start_time\n",
    "    if requests > 100:\n",
    "        warn('Number of requests was greater than expected.')\n",
    "        break\n",
    "\n",
    "    elif response.status_code != 200:\n",
    "        warn('Request: {}; Frequency: {} requests/s'.format(requests, response.status_code))\n",
    "\n",
    "    else:\n",
    "        print('Request: {}; Frequency: {} requests/s'.format(requests, requests/elapsed_time))\n",
    "        clear_output(wait = True)\n",
    "\n",
    "    page_html = BeautifulSoup(response.text, 'lxml')  \n",
    "\n",
    "#root\n",
    "    movie_containers = soup.find_all('div', class_= 'lister-item mode-advanced')\n",
    "\n",
    "    #looping through containers\n",
    "    for container in movie_containers:\n",
    "        if container.find('div', class_ = 'ratings-metascore') is not None:\n",
    "\n",
    "            #The name\n",
    "            name = container.h3.a.text\n",
    "            #print(name)\n",
    "            names.append(name)\n",
    "\n",
    "            #The Year\n",
    "            year = container.find('span', class_ = 'lister-item-year').text\n",
    "            #print(year)\n",
    "            years.append(year)\n",
    "\n",
    "            #IDMb rating             \n",
    "            imdb = container.strong.text\n",
    "            #print(imdb)\n",
    "            imdb_ratings.append(imdb)\n",
    "\n",
    "            #Metascore              \n",
    "            metascore = container.find('span', class_= 'metascore').text\n",
    "            #print(metascore)\n",
    "            metascores.append(int(metascore))\n",
    "            \n",
    "            vote_gross_span = container.findAll('span', attrs = {'name':'nv'})\n",
    "            \n",
    "            #Number of Votes\n",
    "            vote_span = vote_gross_span[0]\n",
    "            #print(vote_span)\n",
    "            vote = vote_span['data-value']\n",
    "#             print(vote)\n",
    "            votes.append(int(vote))\n",
    "\n",
    "            gross_span = vote_gross_span[1]\n",
    "            gross = gross_span['data-value']\n",
    "            box_office.append(gross)\n",
    "            \n",
    "            \n",
    "#             #Number of Votes\n",
    "#             vote = container.find('span', attrs = {'name':'nv'})['data-value'][0]\n",
    "#             #print(vote)\n",
    "#             votes.append(int(vote))\n",
    "            \n",
    "#             box_office = container.find('span', attrs ={'name':'nv'})['data-value'][1]\n",
    "#             box_office.append(int(box_office))\n",
    "    \n",
    "\n",
    "\n",
    "#keeping track of data        \n",
    "test_df= pd.DataFrame({'Movie': names,\n",
    "                        'Year': years,\n",
    "                        'IMDb': imdb_ratings,\n",
    "                        'Metascore': metascores,\n",
    "                        'Votes': votes,\n",
    "                       'Box_Office': box_office\n",
    "                      })\n",
    "print(test_df.info())\n",
    "test_df.to_csv(\"test.csv\", sep=\",\", encoding=\"utf-8\")"
   ]
  },
  {
   "cell_type": "code",
   "execution_count": 73,
   "metadata": {
    "scrolled": true
   },
   "outputs": [
    {
     "data": {
      "text/html": [
       "<div>\n",
       "<style scoped>\n",
       "    .dataframe tbody tr th:only-of-type {\n",
       "        vertical-align: middle;\n",
       "    }\n",
       "\n",
       "    .dataframe tbody tr th {\n",
       "        vertical-align: top;\n",
       "    }\n",
       "\n",
       "    .dataframe thead th {\n",
       "        text-align: right;\n",
       "    }\n",
       "</style>\n",
       "<table border=\"1\" class=\"dataframe\">\n",
       "  <thead>\n",
       "    <tr style=\"text-align: right;\">\n",
       "      <th></th>\n",
       "      <th>Movie</th>\n",
       "      <th>Year</th>\n",
       "      <th>IMDb</th>\n",
       "      <th>Metascore</th>\n",
       "      <th>Votes</th>\n",
       "      <th>Box_Office</th>\n",
       "    </tr>\n",
       "  </thead>\n",
       "  <tbody>\n",
       "    <tr>\n",
       "      <th>0</th>\n",
       "      <td>The Dark Knight</td>\n",
       "      <td>(2008)</td>\n",
       "      <td>9.0</td>\n",
       "      <td>84</td>\n",
       "      <td>2126992</td>\n",
       "      <td>534,858,444</td>\n",
       "    </tr>\n",
       "    <tr>\n",
       "      <th>1</th>\n",
       "      <td>Terminator 2: Judgment Day</td>\n",
       "      <td>(1991)</td>\n",
       "      <td>8.5</td>\n",
       "      <td>75</td>\n",
       "      <td>930447</td>\n",
       "      <td>204,843,350</td>\n",
       "    </tr>\n",
       "    <tr>\n",
       "      <th>2</th>\n",
       "      <td>The Shawshank Redemption</td>\n",
       "      <td>(1994)</td>\n",
       "      <td>9.3</td>\n",
       "      <td>80</td>\n",
       "      <td>2154081</td>\n",
       "      <td>28,341,469</td>\n",
       "    </tr>\n",
       "    <tr>\n",
       "      <th>3</th>\n",
       "      <td>Gladiator</td>\n",
       "      <td>(2000)</td>\n",
       "      <td>8.5</td>\n",
       "      <td>67</td>\n",
       "      <td>1243581</td>\n",
       "      <td>187,705,427</td>\n",
       "    </tr>\n",
       "    <tr>\n",
       "      <th>4</th>\n",
       "      <td>Get Out</td>\n",
       "      <td>(I) (2017)</td>\n",
       "      <td>7.7</td>\n",
       "      <td>84</td>\n",
       "      <td>426706</td>\n",
       "      <td>176,040,665</td>\n",
       "    </tr>\n",
       "  </tbody>\n",
       "</table>\n",
       "</div>"
      ],
      "text/plain": [
       "                        Movie        Year IMDb  Metascore    Votes  \\\n",
       "0             The Dark Knight      (2008)  9.0         84  2126992   \n",
       "1  Terminator 2: Judgment Day      (1991)  8.5         75   930447   \n",
       "2    The Shawshank Redemption      (1994)  9.3         80  2154081   \n",
       "3                   Gladiator      (2000)  8.5         67  1243581   \n",
       "4                     Get Out  (I) (2017)  7.7         84   426706   \n",
       "\n",
       "    Box_Office  \n",
       "0  534,858,444  \n",
       "1  204,843,350  \n",
       "2   28,341,469  \n",
       "3  187,705,427  \n",
       "4  176,040,665  "
      ]
     },
     "execution_count": 73,
     "metadata": {},
     "output_type": "execute_result"
    }
   ],
   "source": [
    "test_df.head()"
   ]
  },
  {
   "cell_type": "code",
   "execution_count": 84,
   "metadata": {},
   "outputs": [],
   "source": [
    "del test_df['Year'] "
   ]
  },
  {
   "cell_type": "code",
   "execution_count": 90,
   "metadata": {},
   "outputs": [],
   "source": [
    "test_df['IMDb'] = test_df['IMDb'].astype(float)\n",
    "test_df['Metascore'] = test_df['Metascore'].astype(float)"
   ]
  },
  {
   "cell_type": "code",
   "execution_count": 107,
   "metadata": {},
   "outputs": [
    {
     "data": {
      "text/plain": [
       "0    534,858,444\n",
       "1    204,843,350\n",
       "2     28,341,469\n",
       "3    187,705,427\n",
       "4    176,040,665\n",
       "Name: Box_Office, dtype: object"
      ]
     },
     "execution_count": 107,
     "metadata": {},
     "output_type": "execute_result"
    }
   ],
   "source": [
    "test_df['Box_Office']\n",
    "\n",
    "test_df['Box_Office'].head()"
   ]
  },
  {
   "cell_type": "code",
   "execution_count": 109,
   "metadata": {},
   "outputs": [],
   "source": [
    "test_df.to_csv(\"test.csv\", sep=',')"
   ]
  },
  {
   "cell_type": "code",
   "execution_count": 115,
   "metadata": {},
   "outputs": [],
   "source": [
    "df1 = pd.read_csv('newtest.csv')\n",
    "del df1['Unnamed: 0']"
   ]
  },
  {
   "cell_type": "code",
   "execution_count": 153,
   "metadata": {},
   "outputs": [
    {
     "data": {
      "text/html": [
       "<div>\n",
       "<style scoped>\n",
       "    .dataframe tbody tr th:only-of-type {\n",
       "        vertical-align: middle;\n",
       "    }\n",
       "\n",
       "    .dataframe tbody tr th {\n",
       "        vertical-align: top;\n",
       "    }\n",
       "\n",
       "    .dataframe thead th {\n",
       "        text-align: right;\n",
       "    }\n",
       "</style>\n",
       "<table border=\"1\" class=\"dataframe\">\n",
       "  <thead>\n",
       "    <tr style=\"text-align: right;\">\n",
       "      <th></th>\n",
       "      <th>Movie</th>\n",
       "      <th>Year</th>\n",
       "      <th>IMDb</th>\n",
       "      <th>Metascore</th>\n",
       "      <th>Votes</th>\n",
       "      <th>Grossprofit</th>\n",
       "      <th>Genre</th>\n",
       "    </tr>\n",
       "  </thead>\n",
       "  <tbody>\n",
       "    <tr>\n",
       "      <th>0</th>\n",
       "      <td>Titanic</td>\n",
       "      <td>1997</td>\n",
       "      <td>7.8</td>\n",
       "      <td>75</td>\n",
       "      <td>978,293.00</td>\n",
       "      <td>659,325,379.00</td>\n",
       "      <td>Drama</td>\n",
       "    </tr>\n",
       "    <tr>\n",
       "      <th>1</th>\n",
       "      <td>The Departed</td>\n",
       "      <td>2006</td>\n",
       "      <td>8.5</td>\n",
       "      <td>85</td>\n",
       "      <td>1,101,272.00</td>\n",
       "      <td>132,384,315.00</td>\n",
       "      <td>Crime Drama Thriller</td>\n",
       "    </tr>\n",
       "    <tr>\n",
       "      <th>2</th>\n",
       "      <td>The Silence of the Lambs</td>\n",
       "      <td>1991</td>\n",
       "      <td>8.6</td>\n",
       "      <td>85</td>\n",
       "      <td>1,166,416.00</td>\n",
       "      <td>130,742,922.00</td>\n",
       "      <td>Crime Drama Thriller</td>\n",
       "    </tr>\n",
       "    <tr>\n",
       "      <th>3</th>\n",
       "      <td>Forrest Gump</td>\n",
       "      <td>1994</td>\n",
       "      <td>8.8</td>\n",
       "      <td>82</td>\n",
       "      <td>1,657,612.00</td>\n",
       "      <td>330,252,182.00</td>\n",
       "      <td>Drama Romance</td>\n",
       "    </tr>\n",
       "    <tr>\n",
       "      <th>4</th>\n",
       "      <td>Schindler's List</td>\n",
       "      <td>1993</td>\n",
       "      <td>8.9</td>\n",
       "      <td>94</td>\n",
       "      <td>1,117,170.00</td>\n",
       "      <td>96,898,818.00</td>\n",
       "      <td>Biography Drama History</td>\n",
       "    </tr>\n",
       "  </tbody>\n",
       "</table>\n",
       "</div>"
      ],
      "text/plain": [
       "                      Movie  Year  IMDb  Metascore         Votes  \\\n",
       "0                   Titanic  1997   7.8         75    978,293.00   \n",
       "1              The Departed  2006   8.5         85  1,101,272.00   \n",
       "2  The Silence of the Lambs  1991   8.6         85  1,166,416.00   \n",
       "3              Forrest Gump  1994   8.8         82  1,657,612.00   \n",
       "4          Schindler's List  1993   8.9         94  1,117,170.00   \n",
       "\n",
       "      Grossprofit                    Genre  \n",
       "0  659,325,379.00                    Drama  \n",
       "1  132,384,315.00     Crime Drama Thriller  \n",
       "2  130,742,922.00     Crime Drama Thriller  \n",
       "3  330,252,182.00            Drama Romance  \n",
       "4   96,898,818.00  Biography Drama History  "
      ]
     },
     "execution_count": 153,
     "metadata": {},
     "output_type": "execute_result"
    }
   ],
   "source": [
    "df3 = pd.read_csv('bestmovies.csv')\n",
    "del df3['Unnamed: 0']\n",
    "df3.head()"
   ]
  },
  {
   "cell_type": "code",
   "execution_count": 116,
   "metadata": {},
   "outputs": [
    {
     "data": {
      "text/html": [
       "<div>\n",
       "<style scoped>\n",
       "    .dataframe tbody tr th:only-of-type {\n",
       "        vertical-align: middle;\n",
       "    }\n",
       "\n",
       "    .dataframe tbody tr th {\n",
       "        vertical-align: top;\n",
       "    }\n",
       "\n",
       "    .dataframe thead th {\n",
       "        text-align: right;\n",
       "    }\n",
       "</style>\n",
       "<table border=\"1\" class=\"dataframe\">\n",
       "  <thead>\n",
       "    <tr style=\"text-align: right;\">\n",
       "      <th></th>\n",
       "      <th>Movie</th>\n",
       "      <th>IMDb</th>\n",
       "      <th>Metascore</th>\n",
       "      <th>Votes</th>\n",
       "      <th>Box_Office</th>\n",
       "    </tr>\n",
       "  </thead>\n",
       "  <tbody>\n",
       "    <tr>\n",
       "      <th>0</th>\n",
       "      <td>The Dark Knight</td>\n",
       "      <td>9.0</td>\n",
       "      <td>84</td>\n",
       "      <td>2126992</td>\n",
       "      <td>534,858,444.00</td>\n",
       "    </tr>\n",
       "    <tr>\n",
       "      <th>1</th>\n",
       "      <td>Terminator 2: Judgment Day</td>\n",
       "      <td>8.5</td>\n",
       "      <td>75</td>\n",
       "      <td>930447</td>\n",
       "      <td>204,843,350.00</td>\n",
       "    </tr>\n",
       "    <tr>\n",
       "      <th>2</th>\n",
       "      <td>The Shawshank Redemption</td>\n",
       "      <td>9.3</td>\n",
       "      <td>80</td>\n",
       "      <td>2154081</td>\n",
       "      <td>28,341,469.00</td>\n",
       "    </tr>\n",
       "    <tr>\n",
       "      <th>3</th>\n",
       "      <td>Gladiator</td>\n",
       "      <td>8.5</td>\n",
       "      <td>67</td>\n",
       "      <td>1243581</td>\n",
       "      <td>187,705,427.00</td>\n",
       "    </tr>\n",
       "    <tr>\n",
       "      <th>4</th>\n",
       "      <td>Get Out</td>\n",
       "      <td>7.7</td>\n",
       "      <td>84</td>\n",
       "      <td>426706</td>\n",
       "      <td>176,040,665.00</td>\n",
       "    </tr>\n",
       "  </tbody>\n",
       "</table>\n",
       "</div>"
      ],
      "text/plain": [
       "                        Movie  IMDb  Metascore    Votes      Box_Office\n",
       "0             The Dark Knight   9.0         84  2126992  534,858,444.00\n",
       "1  Terminator 2: Judgment Day   8.5         75   930447  204,843,350.00\n",
       "2    The Shawshank Redemption   9.3         80  2154081   28,341,469.00\n",
       "3                   Gladiator   8.5         67  1243581  187,705,427.00\n",
       "4                     Get Out   7.7         84   426706  176,040,665.00"
      ]
     },
     "execution_count": 116,
     "metadata": {},
     "output_type": "execute_result"
    }
   ],
   "source": [
    "df1.head()"
   ]
  },
  {
   "cell_type": "code",
   "execution_count": 154,
   "metadata": {},
   "outputs": [],
   "source": [
    "import mysql.connector \n",
    "from mysql.connector import errorcode\n",
    "import config2\n",
    "## Connecting to the database\n",
    "## connecting to the database using 'connect()' method\n",
    "## it takes 3 required parameters 'host', 'user', 'passwd'\n",
    "cnx = mysql.connector.connect(\n",
    "    host = config2.host,\n",
    "    user = config2.user,\n",
    "    passwd = 'stephzoe'\n",
    ")"
   ]
  },
  {
   "cell_type": "code",
   "execution_count": null,
   "metadata": {},
   "outputs": [],
   "source": [
    "cursor = cnx.cursor()\n",
    "\n",
    "db_name = 'Leonardo'\n",
    "try:\n",
    "    cursor.execute(\"USE {}\".format(db_name))\n",
    "except mysql.connector.Error as err:\n",
    "    print(\"Database {} does not exists.\".format(db_name))\n",
    "    if err.errno == errorcode.ER_BAD_DB_ERROR:\n",
    "        create_database(cursor, db_name)\n",
    "        print(\"Database {} created successfully.\".format(db_name))\n",
    "        cnx.database = db_name####\n",
    "    else:\n",
    "        print(err)\n",
    "        exit(1)"
   ]
  },
  {
   "cell_type": "code",
   "execution_count": null,
   "metadata": {},
   "outputs": [],
   "source": [
    "TABLES = {}\n",
    "\n",
    "TABLES['bigmoney'] = \\\n",
    "'''CREATE TABLE IF NOT EXISTS bigmoney (\n",
    "      id int NOT NULL AUTO_INCREMENT PRIMARY KEY, \n",
    "      Movie varchar(200) NOT NULL, \n",
    "      IMDb int,\n",
    "      Metascore int,\n",
    "      Votes int,\n",
    "      Box_Office int NOT NULL\n",
    ")  ENGINE=INNODB;\n",
    "'''"
   ]
  },
  {
   "cell_type": "code",
   "execution_count": null,
   "metadata": {},
   "outputs": [
    {
     "name": "stdout",
     "output_type": "stream",
     "text": [
      "Creating table bigmoney: "
     ]
    }
   ],
   "source": [
    "for table_name in TABLES:\n",
    "    table_description = TABLES[table_name]\n",
    "    try:\n",
    "        print(\"Creating table {}: \".format(table_name), end='')\n",
    "        cursor.execute(table_description)\n",
    "    except mysql.connector.Error as err:\n",
    "        if err.errno == errorcode.ER_TABLE_EXISTS_ERROR:\n",
    "            print(\"already exists.\")\n",
    "        else:\n",
    "            print(err.msg)\n",
    "    else:\n",
    "        print(\"OK\")"
   ]
  },
  {
   "cell_type": "code",
   "execution_count": null,
   "metadata": {},
   "outputs": [],
   "source": [
    "# p = test_df.reindex(columns=['Movie', 'Year', 'IMDb', 'Metascore', 'Votes', 'Box_Office'])\n",
    "subset = df1[['Movie', 'IMDb', 'Metascore', 'Votes', 'Box_Office']]\n",
    "tuples = [tuple(x) for x in subset.values]"
   ]
  },
  {
   "cell_type": "code",
   "execution_count": 62,
   "metadata": {
    "scrolled": true
   },
   "outputs": [
    {
     "data": {
      "text/plain": [
       "('Gladiator', '(2000)', '8.5', 67, 1243563, '187,705,427')"
      ]
     },
     "execution_count": 62,
     "metadata": {},
     "output_type": "execute_result"
    }
   ],
   "source": [
    "tuples[3]"
   ]
  },
  {
   "cell_type": "code",
   "execution_count": 159,
   "metadata": {},
   "outputs": [],
   "source": [
    "addboxes = (\"INSERT INTO Leonardo.bigmoney\" \n",
    "               \"(Movie, IMDb, Metascore, Votes, Box_Office)\"\n",
    "               \"VALUES (%s, %s, %s, %s, %s)\")\n",
    "cursor.executemany(addboxes, tuples)\n",
    "cnx.commit()"
   ]
  },
  {
   "cell_type": "code",
   "execution_count": 129,
   "metadata": {},
   "outputs": [],
   "source": [
    "import matplotlib.pyplot as plt"
   ]
  },
  {
   "cell_type": "code",
   "execution_count": 142,
   "metadata": {},
   "outputs": [
    {
     "data": {
      "text/html": [
       "<div>\n",
       "<style scoped>\n",
       "    .dataframe tbody tr th:only-of-type {\n",
       "        vertical-align: middle;\n",
       "    }\n",
       "\n",
       "    .dataframe tbody tr th {\n",
       "        vertical-align: top;\n",
       "    }\n",
       "\n",
       "    .dataframe thead th {\n",
       "        text-align: right;\n",
       "    }\n",
       "</style>\n",
       "<table border=\"1\" class=\"dataframe\">\n",
       "  <thead>\n",
       "    <tr style=\"text-align: right;\">\n",
       "      <th></th>\n",
       "      <th>Movie</th>\n",
       "      <th>IMDb</th>\n",
       "      <th>Metascore</th>\n",
       "      <th>Votes</th>\n",
       "      <th>Box_Office</th>\n",
       "    </tr>\n",
       "  </thead>\n",
       "  <tbody>\n",
       "    <tr>\n",
       "      <th>0</th>\n",
       "      <td>The Dark Knight</td>\n",
       "      <td>9.0</td>\n",
       "      <td>84</td>\n",
       "      <td>2126992</td>\n",
       "      <td>534,858,444.00</td>\n",
       "    </tr>\n",
       "    <tr>\n",
       "      <th>1</th>\n",
       "      <td>Terminator 2: Judgment Day</td>\n",
       "      <td>8.5</td>\n",
       "      <td>75</td>\n",
       "      <td>930447</td>\n",
       "      <td>204,843,350.00</td>\n",
       "    </tr>\n",
       "    <tr>\n",
       "      <th>2</th>\n",
       "      <td>The Shawshank Redemption</td>\n",
       "      <td>9.3</td>\n",
       "      <td>80</td>\n",
       "      <td>2154081</td>\n",
       "      <td>28,341,469.00</td>\n",
       "    </tr>\n",
       "    <tr>\n",
       "      <th>3</th>\n",
       "      <td>Gladiator</td>\n",
       "      <td>8.5</td>\n",
       "      <td>67</td>\n",
       "      <td>1243581</td>\n",
       "      <td>187,705,427.00</td>\n",
       "    </tr>\n",
       "    <tr>\n",
       "      <th>4</th>\n",
       "      <td>Get Out</td>\n",
       "      <td>7.7</td>\n",
       "      <td>84</td>\n",
       "      <td>426706</td>\n",
       "      <td>176,040,665.00</td>\n",
       "    </tr>\n",
       "  </tbody>\n",
       "</table>\n",
       "</div>"
      ],
      "text/plain": [
       "                        Movie  IMDb  Metascore    Votes      Box_Office\n",
       "0             The Dark Knight   9.0         84  2126992  534,858,444.00\n",
       "1  Terminator 2: Judgment Day   8.5         75   930447  204,843,350.00\n",
       "2    The Shawshank Redemption   9.3         80  2154081   28,341,469.00\n",
       "3                   Gladiator   8.5         67  1243581  187,705,427.00\n",
       "4                     Get Out   7.7         84   426706  176,040,665.00"
      ]
     },
     "execution_count": 142,
     "metadata": {},
     "output_type": "execute_result"
    }
   ],
   "source": [
    "df2 = df1.head(100)\n",
    "df2.head()"
   ]
  },
  {
   "cell_type": "code",
   "execution_count": 151,
   "metadata": {},
   "outputs": [
    {
     "ename": "InternalError",
     "evalue": "Unread result found",
     "output_type": "error",
     "traceback": [
      "\u001b[0;31m---------------------------------------------------------------------------\u001b[0m",
      "\u001b[0;31mInternalError\u001b[0m                             Traceback (most recent call last)",
      "\u001b[0;32m<ipython-input-151-9944e26fd8ca>\u001b[0m in \u001b[0;36m<module>\u001b[0;34m\u001b[0m\n\u001b[1;32m      3\u001b[0m cursor.execute(\"\"\"SELECT *\n\u001b[1;32m      4\u001b[0m                       \u001b[0mFROM\u001b[0m \u001b[0mLeonardo\u001b[0m\u001b[0;34m.\u001b[0m\u001b[0mbigmoney\u001b[0m\u001b[0;34m\u001b[0m\u001b[0;34m\u001b[0m\u001b[0m\n\u001b[0;32m----> 5\u001b[0;31m                       ORDER BY Box_Office DESC;\"\"\")\n\u001b[0m\u001b[1;32m      6\u001b[0m \u001b[0mbigmoney\u001b[0m \u001b[0;34m=\u001b[0m \u001b[0mpd\u001b[0m\u001b[0;34m.\u001b[0m\u001b[0mDataFrame\u001b[0m\u001b[0;34m(\u001b[0m\u001b[0mcursor\u001b[0m\u001b[0;34m.\u001b[0m\u001b[0mfetchall\u001b[0m\u001b[0;34m(\u001b[0m\u001b[0;34m)\u001b[0m\u001b[0;34m)\u001b[0m\u001b[0;34m\u001b[0m\u001b[0;34m\u001b[0m\u001b[0m\n\u001b[1;32m      7\u001b[0m \u001b[0mbigmoney\u001b[0m\u001b[0;34m.\u001b[0m\u001b[0mcolumns\u001b[0m \u001b[0;34m=\u001b[0m \u001b[0;34m[\u001b[0m\u001b[0mx\u001b[0m\u001b[0;34m[\u001b[0m\u001b[0;36m0\u001b[0m\u001b[0;34m]\u001b[0m \u001b[0;32mfor\u001b[0m \u001b[0mx\u001b[0m \u001b[0;32min\u001b[0m \u001b[0mcur\u001b[0m\u001b[0;34m.\u001b[0m\u001b[0mdescription\u001b[0m\u001b[0;34m]\u001b[0m\u001b[0;34m\u001b[0m\u001b[0;34m\u001b[0m\u001b[0m\n",
      "\u001b[0;32m~/anaconda3/lib/python3.7/site-packages/mysql/connector/cursor_cext.py\u001b[0m in \u001b[0;36mexecute\u001b[0;34m(self, operation, params, multi)\u001b[0m\n\u001b[1;32m    232\u001b[0m         \u001b[0;32mif\u001b[0m \u001b[0;32mnot\u001b[0m \u001b[0mself\u001b[0m\u001b[0;34m.\u001b[0m\u001b[0m_cnx\u001b[0m\u001b[0;34m:\u001b[0m\u001b[0;34m\u001b[0m\u001b[0;34m\u001b[0m\u001b[0m\n\u001b[1;32m    233\u001b[0m             \u001b[0;32mraise\u001b[0m \u001b[0merrors\u001b[0m\u001b[0;34m.\u001b[0m\u001b[0mProgrammingError\u001b[0m\u001b[0;34m(\u001b[0m\u001b[0;34m\"Cursor is not connected\"\u001b[0m\u001b[0;34m)\u001b[0m\u001b[0;34m\u001b[0m\u001b[0;34m\u001b[0m\u001b[0m\n\u001b[0;32m--> 234\u001b[0;31m         \u001b[0mself\u001b[0m\u001b[0;34m.\u001b[0m\u001b[0m_cnx\u001b[0m\u001b[0;34m.\u001b[0m\u001b[0mhandle_unread_result\u001b[0m\u001b[0;34m(\u001b[0m\u001b[0;34m)\u001b[0m\u001b[0;34m\u001b[0m\u001b[0;34m\u001b[0m\u001b[0m\n\u001b[0m\u001b[1;32m    235\u001b[0m \u001b[0;34m\u001b[0m\u001b[0m\n\u001b[1;32m    236\u001b[0m         \u001b[0mstmt\u001b[0m \u001b[0;34m=\u001b[0m \u001b[0;34m''\u001b[0m\u001b[0;34m\u001b[0m\u001b[0;34m\u001b[0m\u001b[0m\n",
      "\u001b[0;32m~/anaconda3/lib/python3.7/site-packages/mysql/connector/connection_cext.py\u001b[0m in \u001b[0;36mhandle_unread_result\u001b[0;34m(self, prepared)\u001b[0m\n\u001b[1;32m    693\u001b[0m             \u001b[0mself\u001b[0m\u001b[0;34m.\u001b[0m\u001b[0mconsume_results\u001b[0m\u001b[0;34m(\u001b[0m\u001b[0;34m)\u001b[0m\u001b[0;34m\u001b[0m\u001b[0;34m\u001b[0m\u001b[0m\n\u001b[1;32m    694\u001b[0m         \u001b[0;32melif\u001b[0m \u001b[0munread_result\u001b[0m\u001b[0;34m:\u001b[0m\u001b[0;34m\u001b[0m\u001b[0;34m\u001b[0m\u001b[0m\n\u001b[0;32m--> 695\u001b[0;31m             \u001b[0;32mraise\u001b[0m \u001b[0merrors\u001b[0m\u001b[0;34m.\u001b[0m\u001b[0mInternalError\u001b[0m\u001b[0;34m(\u001b[0m\u001b[0;34m\"Unread result found\"\u001b[0m\u001b[0;34m)\u001b[0m\u001b[0;34m\u001b[0m\u001b[0;34m\u001b[0m\u001b[0m\n\u001b[0m",
      "\u001b[0;31mInternalError\u001b[0m: Unread result found"
     ]
    }
   ],
   "source": [
    "# cursor = cnx.cursor(buffered=True, dictionary=True)\n",
    "\n",
    "cursor.execute(\"\"\"SELECT *\n",
    "                      FROM Leonardo.bigmoney\n",
    "                      ORDER BY Box_Office DESC;\"\"\")\n",
    "bigmoney = pd.DataFrame(cursor.fetchall())\n",
    "bigmoney.columns = [x[0] for x in cur.description]\n",
    "bigmoney"
   ]
  },
  {
   "cell_type": "code",
   "execution_count": null,
   "metadata": {},
   "outputs": [],
   "source": []
  }
 ],
 "metadata": {
  "kernelspec": {
   "display_name": "Python 3",
   "language": "python",
   "name": "python3"
  },
  "language_info": {
   "codemirror_mode": {
    "name": "ipython",
    "version": 3
   },
   "file_extension": ".py",
   "mimetype": "text/x-python",
   "name": "python",
   "nbconvert_exporter": "python",
   "pygments_lexer": "ipython3",
   "version": "3.7.3"
  }
 },
 "nbformat": 4,
 "nbformat_minor": 2
}
